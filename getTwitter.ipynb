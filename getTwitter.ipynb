{
  "nbformat": 4,
  "nbformat_minor": 0,
  "metadata": {
    "kernelspec": {
      "display_name": "Python 3",
      "language": "python",
      "name": "python3"
    },
    "language_info": {
      "codemirror_mode": {
        "name": "ipython",
        "version": 3
      },
      "file_extension": ".py",
      "mimetype": "text/x-python",
      "name": "python",
      "nbconvert_exporter": "python",
      "pygments_lexer": "ipython3",
      "version": "3.6.9"
    },
    "colab": {
      "name": "getTwitter.ipynb",
      "provenance": [],
      "collapsed_sections": [],
      "toc_visible": true
    }
  },
  "cells": [
    {
      "cell_type": "code",
      "metadata": {
        "id": "nwCEwQghs70C"
      },
      "source": [
        "import tweepy \n",
        "import re\n",
        "\n",
        "api_key = \"\"\n",
        "api_secret = \"\"\n",
        "\n",
        "access_token = \"\"\n",
        "access_token_secret = \"\""
      ],
      "execution_count": 18,
      "outputs": []
    },
    {
      "cell_type": "code",
      "metadata": {
        "id": "0B_8tOQps70R"
      },
      "source": [
        "auth = tweepy.OAuthHandler(api_key, api_secret)                                                "
      ],
      "execution_count": 19,
      "outputs": []
    },
    {
      "cell_type": "code",
      "metadata": {
        "id": "i62mvSlms70e"
      },
      "source": [
        "auth.set_access_token(access_token,access_token_secret)"
      ],
      "execution_count": 20,
      "outputs": []
    },
    {
      "cell_type": "code",
      "metadata": {
        "id": "DveXhIVYs70r"
      },
      "source": [
        "api = tweepy.API(auth)"
      ],
      "execution_count": 21,
      "outputs": []
    },
    {
      "cell_type": "code",
      "metadata": {
        "id": "eWVfDhauuXSR",
        "outputId": "39978cf4-d525-4571-8042-b817c20494b9",
        "colab": {
          "base_uri": "https://localhost:8080/",
          "height": 34
        }
      },
      "source": [
        "tweets"
      ],
      "execution_count": 31,
      "outputs": [
        {
          "output_type": "execute_result",
          "data": {
            "text/plain": [
              "[]"
            ]
          },
          "metadata": {
            "tags": []
          },
          "execution_count": 31
        }
      ]
    },
    {
      "cell_type": "code",
      "metadata": {
        "id": "h4tpHt4VkHS1",
        "outputId": "a54a3b61-3ae7-4b51-b01e-c7bd417acf6b",
        "colab": {
          "base_uri": "https://localhost:8080/",
          "height": 513
        }
      },
      "source": [
        "politicians = ['ToniAlvaL', 'WalterMartosR', 'M_LopezCh', \n",
        "               'jpalaciosgal', 'JLMONTENEGROCH', 'Jose_SalardiR',\n",
        "               'ToniAlvaL', 'Rocio_BarriosAl', 'cestremadoyro2',\n",
        "              'Rosario_Sasieta', 'alexperec', 'ananeyra', 'PatyDonayre']\n",
        "\n",
        "tweet_number = 5\n",
        "replies_number = 100\n",
        "\n",
        "tweets = []\n",
        "cant = 0\n",
        "for politician in politicians:\n",
        "  for tweet_main in tweepy.Cursor(\n",
        "      api.user_timeline, screen_name=politician, \n",
        "      timeout=9, wait_on_rate_limit=True,\n",
        "      since=\"2020-10-12\" , until=\"2020-10-25\", \n",
        "      result_type='popular').items(tweet_number):\n",
        "      \n",
        "      tweets.append([tweet_main.user.screen_name,\ttweet_main.user.id,\ttweet_main.text,\ttweet_main.id,\tNone,\ttweet_main.created_at,\ttweet_main.favorite_count, tweet_main.retweet_count,\ttweet_main.user.location])\n",
        "      print(\"Tweet :\", [tweet_main.user.screen_name,\ttweet_main.user.id,\ttweet_main.text,\ttweet_main.id,\tNone,\ttweet_main.created_at,\ttweet_main.favorite_count, tweet_main.retweet_count,\ttweet_main.user.location])   \n",
        "\n",
        "      #Twitter replies  \n",
        "      reply_count = 0\n",
        "      for tweet in tweepy.Cursor(\n",
        "        api.search,q='to:'+politician, \n",
        "        since_id=tweet_main.id, result_type='recent', \n",
        "        timeout=999999, wait_on_rate_limit=True).items(replies_number):\n",
        "\n",
        "        reply_count += 1\n",
        "        if not hasattr(tweet, 'in_reply_to_status_id_str'):\n",
        "            continue\n",
        "\n",
        "        if tweet.in_reply_to_status_id == tweet_main.id:\n",
        "            tweets.append([tweet.user.screen_name,\ttweet.user.id,\ttweet.text,\ttweet.id,\ttweet_main.id,\ttweet.created_at,\ttweet.favorite_count, tweet.retweet_count,\ttweet.user.location])\n",
        "            print(\"Replies :\", tweet.user.screen_name,\ttweet.user.id,\ttweet.text,\ttweet.id,\ttweet_main.id,\ttweet.created_at,\ttweet.favorite_count, tweet.retweet_count,\ttweet.user.location)   "
      ],
      "execution_count": 38,
      "outputs": [
        {
          "output_type": "stream",
          "text": [
            "Tweet : ['ToniAlvaL', 1179864482174119937, 'La formulación de este Programa se dio gracias a un trabajo conjunto con el @congresoperu, con quienes compartimos… https://t.co/yPIhoYpY6K', 1317986625322962945, None, datetime.datetime(2020, 10, 19, 0, 31, 13), 258, 24, '']\n",
            "Replies : Steve29616903 1318037981350006784 @ToniAlvaL @congresoperu Porque no das una rpta. A mi consulta.. 1320357401653104640 1317986625322962945 2020-10-25 13:31:50 0 0 \n",
            "Replies : Fiorell53844835 1247957057397051392 @ToniAlvaL @congresoperu Eso quien lo ve los bancos los funcionarios se lo tienen que informar a los clientes... xq si es así eso no sucede 1320073304544284672 1317986625322962945 2020-10-24 18:42:56 0 0 \n",
            "Replies : javier_doctor 1079038728 @ToniAlvaL @congresoperu La única forma de mejorar cualquier economía en el mundo, es tener gente preparada con con… https://t.co/TrqOTBPL7J 1319977437397192707 1317986625322962945 2020-10-24 12:21:59 0 0 España\n",
            "Replies : JosManuelCoter2 1130480816327282688 @ToniAlvaL @congresoperu Señorita Ministra, habrá algún tipo de ayuda con los que sacaron un vehiculo a crédito?\n",
            "La… https://t.co/xT9jDP0Tib 1319870714225328128 1317986625322962945 2020-10-24 05:17:54 0 0 \n",
            "Replies : mercurio_ei 776082372114669568 @ToniAlvaL @congresoperu Nos gustaría aportar con un idea de campaña, que hemos desarrollado, para la fase 4 de la… https://t.co/QfzVHYtNxM 1319793550830325761 1317986625322962945 2020-10-24 00:11:17 0 0 Lince, Peru\n",
            "Replies : noviadenegro 137373867 @ToniAlvaL @congresoperu @OllasContraElHambre\n",
            "@PresupuestoYa 1319709231096975362 1317986625322962945 2020-10-23 18:36:14 0 0 Perú \n",
            "Replies : daygo94 1309548592814870528 @ToniAlvaL @congresoperu Srta. Ministra, que paso con los créditos de reactiva Perú, a la fecha dicen que uds. Hace… https://t.co/IND7nCToZG 1319396502427652098 1317986625322962945 2020-10-22 21:53:34 0 0 \n",
            "Replies : jaimearnaldo 140291768 @ToniAlvaL @congresoperu Debería darse una ley para CONDONAR las deudas financieras que tienen los Adultos Mayores… https://t.co/XeJG3SYUsZ 1319308184142684168 1317986625322962945 2020-10-22 16:02:37 0 0 La Molina, Lima, Perú\n",
            "Replies : Pedro186005 238398682 @ToniAlvaL @congresoperu Realmente lamentable su participación de hoy en la CE. Eso pasa cuando ponen a una persona… https://t.co/nbEOHdikrf 1319086945692192768 1317986625322962945 2020-10-22 01:23:29 0 0 LIMA-PERU\n",
            "Replies : Giancar39928467 1003034728671219713 @ToniAlvaL @congresoperu https://t.co/5ODZbhqKw0 1318953694734462977 1317986625322962945 2020-10-21 16:34:00 0 0 \n",
            "Replies : VargasGuiliana 1268638235078668288 @ToniAlvaL @congresoperu Ponen como mi grupo de familiar a mis hermanos y ami nieto ,mi grupo famimiar esta compues… https://t.co/9uudpIwGQv 1318780635327193093 1317986625322962945 2020-10-21 05:06:19 0 0 \n",
            "Replies : VargasGuiliana 1268638235078668288 @ToniAlvaL @congresoperu Buenas noches tengo una pregunta para la señorita ministra Maria Antonieta,fui bendecida e… https://t.co/CEEutn0I6i 1318779209402224640 1317986625322962945 2020-10-21 05:00:39 0 0 \n",
            "Tweet : ['ToniAlvaL', 1179864482174119937, 'Para poner el #ProgramaDeGarantías COVID-19 en marcha, se requiere seguir un trámite administrativo y contar con el… https://t.co/Y7ccCSQ92O', 1317986622596648961, None, datetime.datetime(2020, 10, 19, 0, 31, 12), 252, 28, '']\n",
            "Replies : Jmarcoscl2 1311083217349476353 @ToniAlvaL Reactivemos todos los sectores de la economía, antes que sea demasiado tarde. \n",
            "\n",
            "Los informales están rea… https://t.co/1JrqaSMVas 1319409154826637312 1317986622596648961 2020-10-22 22:43:50 0 0 \n",
            "Tweet : ['ToniAlvaL', 1179864482174119937, 'La garantía del Estado, en el marco del  #ProgramaDeGarantías COVID-19, permite la reducción de la tasa de interés… https://t.co/6y3L5qdaJ5', 1317986610735161346, None, datetime.datetime(2020, 10, 19, 0, 31, 9), 165, 30, '']\n",
            "Replies : _Jaimelider1 829150176786911232 @ToniAlvaL Estimado Sr López ,gracias por su consulta .Estamos al tanto de la ley brindada por el gobierno ,pero ah… https://t.co/GBBxn9XxT3 1319800657759686656 1317986610735161346 2020-10-24 00:39:32 0 0 Trujillo, Peru\n",
            "Replies : PedroPa18162481 1319328503637180416 @ToniAlvaL Señorita Ministra la he empezado a seguir por este medio para realizar un reclamo contra la ONP que ha s… https://t.co/Ig5H0k1WBo 1319365513466814467 1317986610735161346 2020-10-22 19:50:25 0 0 \n",
            "Replies : Giancar39928467 1003034728671219713 @ToniAlvaL https://t.co/fyZEqHsOWI 1318953888217780225 1317986610735161346 2020-10-21 16:34:46 0 0 \n",
            "Tweet : ['ToniAlvaL', 1179864482174119937, 'Pueden leer el reglamento aquí: https://t.co/g4OzCXMEVw\\nY en este gráfico podrán encontrar los requisitos para acce… https://t.co/wVk7qlhdxc', 1317986605295161344, None, datetime.datetime(2020, 10, 19, 0, 31, 8), 130, 25, '']\n",
            "Replies : _Jaimelider1 829150176786911232 @ToniAlvaL Estimada Ministra esto fue lo que me respondió el BBVA Consumir Financial a mi solicitud, ya está reglam… https://t.co/ryuLTQMdc1 1319800526410743808 1317986605295161344 2020-10-24 00:39:00 0 0 Trujillo, Peru\n",
            "Replies : MartinYactayo 2975584347 @ToniAlvaL Cual es el criterio para solo considerar los créditos hipotecarios menores a 250000 soles...???\n",
            "Yo tengo… https://t.co/0803chLZjB 1319726631007682561 1317986605295161344 2020-10-23 19:45:22 0 0 \n",
            "Tweet : ['ToniAlvaL', 1179864482174119937, 'En estos gráficos pueden ver las coberturas. https://t.co/YLvG9qKquo', 1317986570679537665, None, datetime.datetime(2020, 10, 19, 0, 31), 127, 21, '']\n"
          ],
          "name": "stdout"
        }
      ]
    },
    {
      "cell_type": "code",
      "metadata": {
        "id": "GQQXB9uijGRy",
        "outputId": "9a8f593b-1085-4aac-e08d-55e1ade8407c",
        "colab": {
          "base_uri": "https://localhost:8080/",
          "height": 34
        }
      },
      "source": [
        "len(tweets)"
      ],
      "execution_count": 39,
      "outputs": [
        {
          "output_type": "execute_result",
          "data": {
            "text/plain": [
              "23"
            ]
          },
          "metadata": {
            "tags": []
          },
          "execution_count": 39
        }
      ]
    },
    {
      "cell_type": "code",
      "metadata": {
        "id": "ul0FvBF1E9GP",
        "outputId": "20d4b0b3-7a33-428f-d2a2-0f2c42539569",
        "colab": {
          "base_uri": "https://localhost:8080/",
          "height": 1000
        }
      },
      "source": [
        "import pandas as pd\n",
        "\n",
        "df = pd.DataFrame(data=tweets, columns=['user_name',\t'user_id',\t'tweet',\t'tweet_id',\t'reply_id',\t'created_at',\t'favourite_count',\t'retweet_count',\t'location']).drop_duplicates()\n",
        "\n",
        "df"
      ],
      "execution_count": 40,
      "outputs": [
        {
          "output_type": "execute_result",
          "data": {
            "text/html": [
              "<div>\n",
              "<style scoped>\n",
              "    .dataframe tbody tr th:only-of-type {\n",
              "        vertical-align: middle;\n",
              "    }\n",
              "\n",
              "    .dataframe tbody tr th {\n",
              "        vertical-align: top;\n",
              "    }\n",
              "\n",
              "    .dataframe thead th {\n",
              "        text-align: right;\n",
              "    }\n",
              "</style>\n",
              "<table border=\"1\" class=\"dataframe\">\n",
              "  <thead>\n",
              "    <tr style=\"text-align: right;\">\n",
              "      <th></th>\n",
              "      <th>user_name</th>\n",
              "      <th>user_id</th>\n",
              "      <th>tweet</th>\n",
              "      <th>tweet_id</th>\n",
              "      <th>reply_id</th>\n",
              "      <th>created_at</th>\n",
              "      <th>favourite_count</th>\n",
              "      <th>retweet_count</th>\n",
              "      <th>location</th>\n",
              "    </tr>\n",
              "  </thead>\n",
              "  <tbody>\n",
              "    <tr>\n",
              "      <th>0</th>\n",
              "      <td>ToniAlvaL</td>\n",
              "      <td>1179864482174119937</td>\n",
              "      <td>La formulación de este Programa se dio gracias...</td>\n",
              "      <td>1317986625322962945</td>\n",
              "      <td>NaN</td>\n",
              "      <td>2020-10-19 00:31:13</td>\n",
              "      <td>258</td>\n",
              "      <td>24</td>\n",
              "      <td></td>\n",
              "    </tr>\n",
              "    <tr>\n",
              "      <th>1</th>\n",
              "      <td>Steve29616903</td>\n",
              "      <td>1318037981350006784</td>\n",
              "      <td>@ToniAlvaL @congresoperu Porque no das una rpt...</td>\n",
              "      <td>1320357401653104640</td>\n",
              "      <td>1.317987e+18</td>\n",
              "      <td>2020-10-25 13:31:50</td>\n",
              "      <td>0</td>\n",
              "      <td>0</td>\n",
              "      <td></td>\n",
              "    </tr>\n",
              "    <tr>\n",
              "      <th>2</th>\n",
              "      <td>Fiorell53844835</td>\n",
              "      <td>1247957057397051392</td>\n",
              "      <td>@ToniAlvaL @congresoperu Eso quien lo ve los b...</td>\n",
              "      <td>1320073304544284672</td>\n",
              "      <td>1.317987e+18</td>\n",
              "      <td>2020-10-24 18:42:56</td>\n",
              "      <td>0</td>\n",
              "      <td>0</td>\n",
              "      <td></td>\n",
              "    </tr>\n",
              "    <tr>\n",
              "      <th>3</th>\n",
              "      <td>javier_doctor</td>\n",
              "      <td>1079038728</td>\n",
              "      <td>@ToniAlvaL @congresoperu La única forma de mej...</td>\n",
              "      <td>1319977437397192707</td>\n",
              "      <td>1.317987e+18</td>\n",
              "      <td>2020-10-24 12:21:59</td>\n",
              "      <td>0</td>\n",
              "      <td>0</td>\n",
              "      <td>España</td>\n",
              "    </tr>\n",
              "    <tr>\n",
              "      <th>4</th>\n",
              "      <td>JosManuelCoter2</td>\n",
              "      <td>1130480816327282688</td>\n",
              "      <td>@ToniAlvaL @congresoperu Señorita Ministra, ha...</td>\n",
              "      <td>1319870714225328128</td>\n",
              "      <td>1.317987e+18</td>\n",
              "      <td>2020-10-24 05:17:54</td>\n",
              "      <td>0</td>\n",
              "      <td>0</td>\n",
              "      <td></td>\n",
              "    </tr>\n",
              "    <tr>\n",
              "      <th>5</th>\n",
              "      <td>mercurio_ei</td>\n",
              "      <td>776082372114669568</td>\n",
              "      <td>@ToniAlvaL @congresoperu Nos gustaría aportar ...</td>\n",
              "      <td>1319793550830325761</td>\n",
              "      <td>1.317987e+18</td>\n",
              "      <td>2020-10-24 00:11:17</td>\n",
              "      <td>0</td>\n",
              "      <td>0</td>\n",
              "      <td>Lince, Peru</td>\n",
              "    </tr>\n",
              "    <tr>\n",
              "      <th>6</th>\n",
              "      <td>noviadenegro</td>\n",
              "      <td>137373867</td>\n",
              "      <td>@ToniAlvaL @congresoperu @OllasContraElHambre\\...</td>\n",
              "      <td>1319709231096975362</td>\n",
              "      <td>1.317987e+18</td>\n",
              "      <td>2020-10-23 18:36:14</td>\n",
              "      <td>0</td>\n",
              "      <td>0</td>\n",
              "      <td>Perú</td>\n",
              "    </tr>\n",
              "    <tr>\n",
              "      <th>7</th>\n",
              "      <td>daygo94</td>\n",
              "      <td>1309548592814870528</td>\n",
              "      <td>@ToniAlvaL @congresoperu Srta. Ministra, que p...</td>\n",
              "      <td>1319396502427652098</td>\n",
              "      <td>1.317987e+18</td>\n",
              "      <td>2020-10-22 21:53:34</td>\n",
              "      <td>0</td>\n",
              "      <td>0</td>\n",
              "      <td></td>\n",
              "    </tr>\n",
              "    <tr>\n",
              "      <th>8</th>\n",
              "      <td>jaimearnaldo</td>\n",
              "      <td>140291768</td>\n",
              "      <td>@ToniAlvaL @congresoperu Debería darse una ley...</td>\n",
              "      <td>1319308184142684168</td>\n",
              "      <td>1.317987e+18</td>\n",
              "      <td>2020-10-22 16:02:37</td>\n",
              "      <td>0</td>\n",
              "      <td>0</td>\n",
              "      <td>La Molina, Lima, Perú</td>\n",
              "    </tr>\n",
              "    <tr>\n",
              "      <th>9</th>\n",
              "      <td>Pedro186005</td>\n",
              "      <td>238398682</td>\n",
              "      <td>@ToniAlvaL @congresoperu Realmente lamentable ...</td>\n",
              "      <td>1319086945692192768</td>\n",
              "      <td>1.317987e+18</td>\n",
              "      <td>2020-10-22 01:23:29</td>\n",
              "      <td>0</td>\n",
              "      <td>0</td>\n",
              "      <td>LIMA-PERU</td>\n",
              "    </tr>\n",
              "    <tr>\n",
              "      <th>10</th>\n",
              "      <td>Giancar39928467</td>\n",
              "      <td>1003034728671219713</td>\n",
              "      <td>@ToniAlvaL @congresoperu https://t.co/5ODZbhqKw0</td>\n",
              "      <td>1318953694734462977</td>\n",
              "      <td>1.317987e+18</td>\n",
              "      <td>2020-10-21 16:34:00</td>\n",
              "      <td>0</td>\n",
              "      <td>0</td>\n",
              "      <td></td>\n",
              "    </tr>\n",
              "    <tr>\n",
              "      <th>11</th>\n",
              "      <td>VargasGuiliana</td>\n",
              "      <td>1268638235078668288</td>\n",
              "      <td>@ToniAlvaL @congresoperu Ponen como mi grupo d...</td>\n",
              "      <td>1318780635327193093</td>\n",
              "      <td>1.317987e+18</td>\n",
              "      <td>2020-10-21 05:06:19</td>\n",
              "      <td>0</td>\n",
              "      <td>0</td>\n",
              "      <td></td>\n",
              "    </tr>\n",
              "    <tr>\n",
              "      <th>12</th>\n",
              "      <td>VargasGuiliana</td>\n",
              "      <td>1268638235078668288</td>\n",
              "      <td>@ToniAlvaL @congresoperu Buenas noches tengo u...</td>\n",
              "      <td>1318779209402224640</td>\n",
              "      <td>1.317987e+18</td>\n",
              "      <td>2020-10-21 05:00:39</td>\n",
              "      <td>0</td>\n",
              "      <td>0</td>\n",
              "      <td></td>\n",
              "    </tr>\n",
              "    <tr>\n",
              "      <th>13</th>\n",
              "      <td>ToniAlvaL</td>\n",
              "      <td>1179864482174119937</td>\n",
              "      <td>Para poner el #ProgramaDeGarantías COVID-19 en...</td>\n",
              "      <td>1317986622596648961</td>\n",
              "      <td>NaN</td>\n",
              "      <td>2020-10-19 00:31:12</td>\n",
              "      <td>252</td>\n",
              "      <td>28</td>\n",
              "      <td></td>\n",
              "    </tr>\n",
              "    <tr>\n",
              "      <th>14</th>\n",
              "      <td>Jmarcoscl2</td>\n",
              "      <td>1311083217349476353</td>\n",
              "      <td>@ToniAlvaL Reactivemos todos los sectores de l...</td>\n",
              "      <td>1319409154826637312</td>\n",
              "      <td>1.317987e+18</td>\n",
              "      <td>2020-10-22 22:43:50</td>\n",
              "      <td>0</td>\n",
              "      <td>0</td>\n",
              "      <td></td>\n",
              "    </tr>\n",
              "    <tr>\n",
              "      <th>15</th>\n",
              "      <td>ToniAlvaL</td>\n",
              "      <td>1179864482174119937</td>\n",
              "      <td>La garantía del Estado, en el marco del  #Prog...</td>\n",
              "      <td>1317986610735161346</td>\n",
              "      <td>NaN</td>\n",
              "      <td>2020-10-19 00:31:09</td>\n",
              "      <td>165</td>\n",
              "      <td>30</td>\n",
              "      <td></td>\n",
              "    </tr>\n",
              "    <tr>\n",
              "      <th>16</th>\n",
              "      <td>_Jaimelider1</td>\n",
              "      <td>829150176786911232</td>\n",
              "      <td>@ToniAlvaL Estimado Sr López ,gracias por su c...</td>\n",
              "      <td>1319800657759686656</td>\n",
              "      <td>1.317987e+18</td>\n",
              "      <td>2020-10-24 00:39:32</td>\n",
              "      <td>0</td>\n",
              "      <td>0</td>\n",
              "      <td>Trujillo, Peru</td>\n",
              "    </tr>\n",
              "    <tr>\n",
              "      <th>17</th>\n",
              "      <td>PedroPa18162481</td>\n",
              "      <td>1319328503637180416</td>\n",
              "      <td>@ToniAlvaL Señorita Ministra la he empezado a ...</td>\n",
              "      <td>1319365513466814467</td>\n",
              "      <td>1.317987e+18</td>\n",
              "      <td>2020-10-22 19:50:25</td>\n",
              "      <td>0</td>\n",
              "      <td>0</td>\n",
              "      <td></td>\n",
              "    </tr>\n",
              "    <tr>\n",
              "      <th>18</th>\n",
              "      <td>Giancar39928467</td>\n",
              "      <td>1003034728671219713</td>\n",
              "      <td>@ToniAlvaL https://t.co/fyZEqHsOWI</td>\n",
              "      <td>1318953888217780225</td>\n",
              "      <td>1.317987e+18</td>\n",
              "      <td>2020-10-21 16:34:46</td>\n",
              "      <td>0</td>\n",
              "      <td>0</td>\n",
              "      <td></td>\n",
              "    </tr>\n",
              "    <tr>\n",
              "      <th>19</th>\n",
              "      <td>ToniAlvaL</td>\n",
              "      <td>1179864482174119937</td>\n",
              "      <td>Pueden leer el reglamento aquí: https://t.co/g...</td>\n",
              "      <td>1317986605295161344</td>\n",
              "      <td>NaN</td>\n",
              "      <td>2020-10-19 00:31:08</td>\n",
              "      <td>130</td>\n",
              "      <td>25</td>\n",
              "      <td></td>\n",
              "    </tr>\n",
              "    <tr>\n",
              "      <th>20</th>\n",
              "      <td>_Jaimelider1</td>\n",
              "      <td>829150176786911232</td>\n",
              "      <td>@ToniAlvaL Estimada Ministra esto fue lo que m...</td>\n",
              "      <td>1319800526410743808</td>\n",
              "      <td>1.317987e+18</td>\n",
              "      <td>2020-10-24 00:39:00</td>\n",
              "      <td>0</td>\n",
              "      <td>0</td>\n",
              "      <td>Trujillo, Peru</td>\n",
              "    </tr>\n",
              "    <tr>\n",
              "      <th>21</th>\n",
              "      <td>MartinYactayo</td>\n",
              "      <td>2975584347</td>\n",
              "      <td>@ToniAlvaL Cual es el criterio para solo consi...</td>\n",
              "      <td>1319726631007682561</td>\n",
              "      <td>1.317987e+18</td>\n",
              "      <td>2020-10-23 19:45:22</td>\n",
              "      <td>0</td>\n",
              "      <td>0</td>\n",
              "      <td></td>\n",
              "    </tr>\n",
              "    <tr>\n",
              "      <th>22</th>\n",
              "      <td>ToniAlvaL</td>\n",
              "      <td>1179864482174119937</td>\n",
              "      <td>En estos gráficos pueden ver las coberturas. h...</td>\n",
              "      <td>1317986570679537665</td>\n",
              "      <td>NaN</td>\n",
              "      <td>2020-10-19 00:31:00</td>\n",
              "      <td>127</td>\n",
              "      <td>21</td>\n",
              "      <td></td>\n",
              "    </tr>\n",
              "  </tbody>\n",
              "</table>\n",
              "</div>"
            ],
            "text/plain": [
              "          user_name              user_id  ... retweet_count               location\n",
              "0         ToniAlvaL  1179864482174119937  ...            24                       \n",
              "1     Steve29616903  1318037981350006784  ...             0                       \n",
              "2   Fiorell53844835  1247957057397051392  ...             0                       \n",
              "3     javier_doctor           1079038728  ...             0                 España\n",
              "4   JosManuelCoter2  1130480816327282688  ...             0                       \n",
              "5       mercurio_ei   776082372114669568  ...             0            Lince, Peru\n",
              "6      noviadenegro            137373867  ...             0                  Perú \n",
              "7           daygo94  1309548592814870528  ...             0                       \n",
              "8      jaimearnaldo            140291768  ...             0  La Molina, Lima, Perú\n",
              "9       Pedro186005            238398682  ...             0              LIMA-PERU\n",
              "10  Giancar39928467  1003034728671219713  ...             0                       \n",
              "11   VargasGuiliana  1268638235078668288  ...             0                       \n",
              "12   VargasGuiliana  1268638235078668288  ...             0                       \n",
              "13        ToniAlvaL  1179864482174119937  ...            28                       \n",
              "14       Jmarcoscl2  1311083217349476353  ...             0                       \n",
              "15        ToniAlvaL  1179864482174119937  ...            30                       \n",
              "16     _Jaimelider1   829150176786911232  ...             0         Trujillo, Peru\n",
              "17  PedroPa18162481  1319328503637180416  ...             0                       \n",
              "18  Giancar39928467  1003034728671219713  ...             0                       \n",
              "19        ToniAlvaL  1179864482174119937  ...            25                       \n",
              "20     _Jaimelider1   829150176786911232  ...             0         Trujillo, Peru\n",
              "21    MartinYactayo           2975584347  ...             0                       \n",
              "22        ToniAlvaL  1179864482174119937  ...            21                       \n",
              "\n",
              "[23 rows x 9 columns]"
            ]
          },
          "metadata": {
            "tags": []
          },
          "execution_count": 40
        }
      ]
    },
    {
      "cell_type": "code",
      "metadata": {
        "id": "A3nEmihDJVPC"
      },
      "source": [
        "df.to_csv(\"output.csv\")\n",
        "\n",
        "df.to_excel(\"output.xlsx\")"
      ],
      "execution_count": 41,
      "outputs": []
    },
    {
      "cell_type": "code",
      "metadata": {
        "id": "D_aTxemGOz7n",
        "outputId": "b3012624-87a5-4ed6-a605-120c812a2cbc",
        "colab": {
          "base_uri": "https://localhost:8080/",
          "height": 17
        }
      },
      "source": [
        "from google.colab import files\n",
        "files.download('output.csv') "
      ],
      "execution_count": null,
      "outputs": [
        {
          "output_type": "display_data",
          "data": {
            "application/javascript": [
              "\n",
              "    async function download(id, filename, size) {\n",
              "      if (!google.colab.kernel.accessAllowed) {\n",
              "        return;\n",
              "      }\n",
              "      const div = document.createElement('div');\n",
              "      const label = document.createElement('label');\n",
              "      label.textContent = `Downloading \"${filename}\": `;\n",
              "      div.appendChild(label);\n",
              "      const progress = document.createElement('progress');\n",
              "      progress.max = size;\n",
              "      div.appendChild(progress);\n",
              "      document.body.appendChild(div);\n",
              "\n",
              "      const buffers = [];\n",
              "      let downloaded = 0;\n",
              "\n",
              "      const channel = await google.colab.kernel.comms.open(id);\n",
              "      // Send a message to notify the kernel that we're ready.\n",
              "      channel.send({})\n",
              "\n",
              "      for await (const message of channel.messages) {\n",
              "        // Send a message to notify the kernel that we're ready.\n",
              "        channel.send({})\n",
              "        if (message.buffers) {\n",
              "          for (const buffer of message.buffers) {\n",
              "            buffers.push(buffer);\n",
              "            downloaded += buffer.byteLength;\n",
              "            progress.value = downloaded;\n",
              "          }\n",
              "        }\n",
              "      }\n",
              "      const blob = new Blob(buffers, {type: 'application/binary'});\n",
              "      const a = document.createElement('a');\n",
              "      a.href = window.URL.createObjectURL(blob);\n",
              "      a.download = filename;\n",
              "      div.appendChild(a);\n",
              "      a.click();\n",
              "      div.remove();\n",
              "    }\n",
              "  "
            ],
            "text/plain": [
              "<IPython.core.display.Javascript object>"
            ]
          },
          "metadata": {
            "tags": []
          }
        },
        {
          "output_type": "display_data",
          "data": {
            "application/javascript": [
              "download(\"download_2665443e-f709-430a-bf81-fe12e30d3de7\", \"output.csv\", 1596162)"
            ],
            "text/plain": [
              "<IPython.core.display.Javascript object>"
            ]
          },
          "metadata": {
            "tags": []
          }
        }
      ]
    }
  ]
}